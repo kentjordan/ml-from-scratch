{
 "cells": [
  {
   "cell_type": "code",
   "execution_count": 1,
   "metadata": {},
   "outputs": [],
   "source": [
    "import numpy as np"
   ]
  },
  {
   "cell_type": "code",
   "execution_count": 12,
   "metadata": {},
   "outputs": [],
   "source": [
    "def sigmoid(x_i: np.ndarray, w_i: np.ndarray, b_i: float):\n",
    "    return 1 / (1 + np.exp(-(np.dot(w_i,x_i) + b_i)))"
   ]
  },
  {
   "cell_type": "code",
   "execution_count": 6,
   "metadata": {},
   "outputs": [],
   "source": [
    "# Define the Layer (call it Dense Layer, inspired from Tensorflow)\n",
    "class Dense:\n",
    "    X: np.ndarray\n",
    "    units: int\n",
    "    W: np.ndarray\n",
    "    b: np.ndarray\n",
    "\n",
    "    def __init__(self, units: int) -> None:\n",
    "        self.units = units\n",
    "\n",
    "    def getUnits(self) -> int:\n",
    "        return self.units\n",
    "\n",
    "    def setInput(self, X: np.ndarray) -> None:\n",
    "        self.input = X\n",
    "\n",
    "    def setWeights(self, W: np.ndarray) -> None:\n",
    "        self.W = W\n",
    "\n",
    "    def setBias(self, b: np.ndarray) -> None:\n",
    "        self.b = b\n",
    "\n",
    "    def compute(self) -> None:\n",
    "        a_out = np.zeros(self.units)\n",
    "        for j in range(self.units):\n",
    "            a_out[j] = sigmoid(self.input, self.W.T[j], self.b[j])\n",
    "\n",
    "        return a_out"
   ]
  },
  {
   "cell_type": "code",
   "execution_count": 7,
   "metadata": {},
   "outputs": [],
   "source": [
    "# Define Neural Network\n",
    "def sequential(denses: np.ndarray, xi: np.ndarray):\n",
    "    for i in range(0, denses.size, 2):\n",
    "        prev = denses[i]\n",
    "        prev.setInput(xi)\n",
    "        prev = denses[i].compute()\n",
    "            \n",
    "        if i + 1 == denses.size:\n",
    "            return prev\n",
    "\n",
    "        next = denses[i + 1]\n",
    "        next.setInput(prev)\n",
    "        next = next.compute()\n",
    "\n",
    "        if i == denses.size - 2:\n",
    "            return next"
   ]
  },
  {
   "cell_type": "code",
   "execution_count": 8,
   "metadata": {},
   "outputs": [],
   "source": [
    "# Setup Network's Layers\n",
    "dense0 = Dense(units=3)\n",
    "dense0.setWeights(np.array( [[-8.93,  0.29, 12.9 ], [-0.1,  -7.32, 10.81]] ))\n",
    "dense0.setBias(np.array( [-9.82, -9.28,  0.96] ))\n",
    "\n",
    "dense1 = Dense(units=1)\n",
    "dense1.setWeights(np.array( [[-31.18], [-27.59], [-32.56]] ))\n",
    "dense1.setBias(np.array( [15.41] ))\n",
    "\n",
    "denses = np.array([\n",
    "    dense0,\n",
    "    dense1,\n",
    "])"
   ]
  },
  {
   "cell_type": "code",
   "execution_count": 9,
   "metadata": {},
   "outputs": [],
   "source": [
    "# Define predict function\n",
    "def predict(x: np.ndarray):\n",
    "    prediction = np.zeros(x.shape[0])\n",
    "    for i in range(prediction.shape[0]):\n",
    "        prediction[i] = (1 if sequential(denses, x[i]) >= 0.5 else 0)\n",
    "    return prediction"
   ]
  },
  {
   "cell_type": "code",
   "execution_count": 13,
   "metadata": {},
   "outputs": [
    {
     "name": "stdout",
     "output_type": "stream",
     "text": [
      "Prediction [1. 0.]\n"
     ]
    }
   ],
   "source": [
    "# Prediction\n",
    "input = np.array([\n",
    "    [-0.47, 0.42],\n",
    "    [-0.47, 3.16]\n",
    "])\n",
    "\n",
    "print('Prediction', predict(input))"
   ]
  }
 ],
 "metadata": {
  "kernelspec": {
   "display_name": ".venv",
   "language": "python",
   "name": "python3"
  },
  "language_info": {
   "codemirror_mode": {
    "name": "ipython",
    "version": 3
   },
   "file_extension": ".py",
   "mimetype": "text/x-python",
   "name": "python",
   "nbconvert_exporter": "python",
   "pygments_lexer": "ipython3",
   "version": "3.11.8"
  }
 },
 "nbformat": 4,
 "nbformat_minor": 2
}
