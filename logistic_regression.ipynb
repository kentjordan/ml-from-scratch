{
 "cells": [
  {
   "cell_type": "code",
   "execution_count": 1,
   "metadata": {},
   "outputs": [],
   "source": [
    "import numpy as np\n",
    "import matplotlib.pyplot as plt"
   ]
  },
  {
   "cell_type": "code",
   "execution_count": 2,
   "metadata": {},
   "outputs": [],
   "source": [
    "X_train = np.array([[0.5, 1.5], [1, 1], [1.5, 0.5],\n",
    "                   [3, 0.5], [2, 2], [1, 2.5]])\n",
    "\n",
    "y_train = np.array([0, 0, 0, 1, 1, 1])"
   ]
  },
  {
   "cell_type": "code",
   "execution_count": 3,
   "metadata": {},
   "outputs": [],
   "source": [
    "def sigmoid(w: np.ndarray, x_i: np.ndarray, b):\n",
    "    return 1 / (1 + np.exp(-(np.dot(w, x_i) + b)))"
   ]
  },
  {
   "cell_type": "code",
   "execution_count": 4,
   "metadata": {},
   "outputs": [],
   "source": [
    "def logistic_loss(y_hat: float, y_i: float):\n",
    "    '''\n",
    "    # Logistic's Loss Function\n",
    "    f(x) = 1 / 1 + e^(-z)\n",
    "    L(f(x), y^(i)) = -y^(i) * log(f(x)) - (1 - y^(i))log(1 - f(x))\n",
    "    '''\n",
    "    return -y_i * np.log(y_hat) - (1 - y_i) * np.log(1 - y_hat)"
   ]
  },
  {
   "cell_type": "code",
   "execution_count": 5,
   "metadata": {},
   "outputs": [],
   "source": [
    "def logistic_cost(x: np.ndarray, y: np.ndarray, w: np.ndarray, b: float):\n",
    "    '''\n",
    "    # Cost Function\n",
    "    J(w, b) = 1/m * sum(L(f, y^(i)))\n",
    "    '''\n",
    "    sum = 0\n",
    "    m = x.shape[0]\n",
    "    for i in range(m - 1):\n",
    "        f = sigmoid(w, x[i], b)\n",
    "        sum += logistic_loss(f, y[i])\n",
    "\n",
    "    return sum / m"
   ]
  },
  {
   "cell_type": "markdown",
   "metadata": {},
   "source": [
    "### Define dj/dw and dj/db"
   ]
  },
  {
   "cell_type": "code",
   "execution_count": 6,
   "metadata": {},
   "outputs": [],
   "source": [
    "def logistic_derivatives(x: np.ndarray, y: np.ndarray, w: np.ndarray, b: float):\n",
    "    m, n = x.shape\n",
    "    \n",
    "    dj_dw = 0\n",
    "    dj_db = 0\n",
    "\n",
    "    for i in range(m - 1):\n",
    "        \n",
    "        f = sigmoid(w, x[i], b) \n",
    "        \n",
    "        for j in range(n):\n",
    "            dj_dw += (f - y[i]) * x[i][j]\n",
    "        \n",
    "        dj_db += (f - y[i])\n",
    "\n",
    "    return (dj_dw / m, dj_db / m)\n",
    "    "
   ]
  },
  {
   "cell_type": "code",
   "execution_count": 7,
   "metadata": {},
   "outputs": [],
   "source": [
    "w = np.zeros(2)\n",
    "b = 0.0\n",
    "a = 0.1\n",
    "\n",
    "cost_hist = np.zeros(0)"
   ]
  },
  {
   "cell_type": "code",
   "execution_count": 8,
   "metadata": {},
   "outputs": [
    {
     "name": "stdout",
     "output_type": "stream",
     "text": [
      "Iteration 0 Cost: 0.575445364021209\n",
      "Iteration 1000 Cost: 0.13349773060430928\n",
      "Iteration 2000 Cost: 0.07142692793158488\n",
      "Iteration 3000 Cost: 0.048471490977568595\n",
      "Iteration 4000 Cost: 0.03663245085150628\n",
      "Iteration 5000 Cost: 0.029429285328285423\n",
      "Iteration 6000 Cost: 0.024590194250432847\n",
      "Iteration 7000 Cost: 0.021117140864857744\n",
      "Iteration 8000 Cost: 0.018503882432804635\n",
      "Iteration 9000 Cost: 0.01646656660214905\n"
     ]
    }
   ],
   "source": [
    "for i in range(10_000):\n",
    "   dj_dw, dj_db = logistic_derivatives(X_train, y_train, w, b)\n",
    "   w -= a * dj_dw\n",
    "   b -= a * dj_db\n",
    "   if((i % 1000) == 0):\n",
    "      j = logistic_cost(X_train, y_train, w, b)\n",
    "      cost_hist = np.append(cost_hist, j)\n",
    "      print(\"Iteration\",i,\"Cost:\", j)"
   ]
  },
  {
   "cell_type": "code",
   "execution_count": 9,
   "metadata": {},
   "outputs": [
    {
     "data": {
      "text/plain": [
       "(array([4.96046445, 4.96046445]), -13.904547309312196)"
      ]
     },
     "execution_count": 9,
     "metadata": {},
     "output_type": "execute_result"
    }
   ],
   "source": [
    "w, b"
   ]
  },
  {
   "cell_type": "code",
   "execution_count": 10,
   "metadata": {},
   "outputs": [
    {
     "data": {
      "text/plain": [
       "10"
      ]
     },
     "execution_count": 10,
     "metadata": {},
     "output_type": "execute_result"
    }
   ],
   "source": [
    "cost_hist.size"
   ]
  },
  {
   "cell_type": "code",
   "execution_count": 11,
   "metadata": {},
   "outputs": [
    {
     "data": {
      "image/png": "[encoded data removed]",
      "text/plain": [
       "<Figure size 640x480 with 1 Axes>"
      ]
     },
     "metadata": {},
     "output_type": "display_data"
    }
   ],
   "source": [
    "plt.plot(cost_hist)\n",
    "plt.title(\"Logistic Cost J(w, b)\")\n",
    "plt.xlabel(\"Interation Count in Thousands\")\n",
    "plt.ylabel(\"Cost J(w, b)\")\n",
    "plt.xticks(np.arange(0, cost_hist.size, 2))\n",
    "plt.show()"
   ]
  }
 ],
 "metadata": {
  "kernelspec": {
   "display_name": ".venv",
   "language": "python",
   "name": "python3"
  },
  "language_info": {
   "codemirror_mode": {
    "name": "ipython",
    "version": 3
   },
   "file_extension": ".py",
   "mimetype": "text/x-python",
   "name": "python",
   "nbconvert_exporter": "python",
   "pygments_lexer": "ipython3",
   "version": "3.12.1"
  }
 },
 "nbformat": 4,
 "nbformat_minor": 2
}
